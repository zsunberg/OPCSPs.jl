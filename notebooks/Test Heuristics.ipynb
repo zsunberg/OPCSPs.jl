{
 "cells": [
  {
   "cell_type": "code",
   "execution_count": 1,
   "metadata": {
    "collapsed": false
   },
   "outputs": [
    {
     "data": {
      "text/plain": [
       "20"
      ]
     },
     "execution_count": 1,
     "metadata": {},
     "output_type": "execute_result"
    }
   ],
   "source": [
    "using OPCSPs\n",
    "step=5\n",
    "max_nodes=20"
   ]
  },
  {
   "cell_type": "code",
   "execution_count": 4,
   "metadata": {
    "collapsed": false
   },
   "outputs": [
    {
     "name": "stdout",
     "output_type": "stream",
     "text": [
      "10 nodes\n",
      "  0.012134 seconds (2.17 k allocations: 208.281 KB)\n",
      "15 nodes\n",
      "  1.499502 seconds (5.63 k allocations: 460.234 KB)\n",
      "20 nodes\n",
      "  1.403291 seconds (8.28 k allocations: 772.094 KB)\n"
     ]
    }
   ],
   "source": [
    "for i in 10:step:max_nodes\n",
    "    println(\"$i nodes\")\n",
    "    problem = gen_op(n_nodes=i, rng=MersenneTwister(i))\n",
    "    @time solve_op(problem)\n",
    "end"
   ]
  },
  {
   "cell_type": "code",
   "execution_count": 6,
   "metadata": {
    "collapsed": false
   },
   "outputs": [
    {
     "name": "stdout",
     "output_type": "stream",
     "text": [
      "10 nodes\n",
      "  0.003571 seconds (2.18 k allocations: 212.281 KB)\n",
      "15 nodes\n",
      "  0.005924 seconds (5.64 k allocations: 468.297 KB)\n",
      "20 nodes\n",
      "  0.010784 seconds (8.29 k allocations: 785.203 KB)\n"
     ]
    }
   ],
   "source": [
    "for i in 10:step:max_nodes\n",
    "    println(\"$i nodes\")\n",
    "    problem = gen_op(n_nodes=i, rng=MersenneTwister(i))\n",
    "    @time solve_op(problem, relax=true)\n",
    "end"
   ]
  },
  {
   "cell_type": "code",
   "execution_count": null,
   "metadata": {
    "collapsed": true
   },
   "outputs": [],
   "source": []
  }
 ],
 "metadata": {
  "kernelspec": {
   "display_name": "Julia 0.4.0",
   "language": "julia",
   "name": "julia-0.4"
  },
  "language_info": {
   "file_extension": ".jl",
   "mimetype": "application/julia",
   "name": "julia",
   "version": "0.4.2"
  }
 },
 "nbformat": 4,
 "nbformat_minor": 0
}
