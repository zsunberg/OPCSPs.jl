{
 "cells": [
  {
   "cell_type": "code",
   "execution_count": 1,
   "metadata": {
    "collapsed": false
   },
   "outputs": [
    {
     "data": {
      "text/plain": [
       "30"
      ]
     },
     "execution_count": 1,
     "metadata": {},
     "output_type": "execute_result"
    }
   ],
   "source": [
    "using OPCSPs\n",
    "step=5\n",
    "max_nodes=30"
   ]
  },
  {
   "cell_type": "code",
   "execution_count": 2,
   "metadata": {
    "collapsed": false
   },
   "outputs": [
    {
     "data": {
      "text/plain": [
       "create_mip_without_subtour (generic function with 1 method)"
      ]
     },
     "execution_count": 2,
     "metadata": {},
     "output_type": "execute_result"
    }
   ],
   "source": [
    "include(\"no_subtour.jl\")"
   ]
  },
  {
   "cell_type": "code",
   "execution_count": 3,
   "metadata": {
    "collapsed": false
   },
   "outputs": [
    {
     "name": "stdout",
     "output_type": "stream",
     "text": [
      "10 nodes\n",
      "  1.608530 seconds (825.25 k allocations: 34.358 MB, 0.32% gc time)\n",
      "15 nodes\n",
      "  0.872766 seconds (5.96 k allocations: 480.391 KB)\n",
      "20 nodes\n",
      "  0.333525 seconds (8.48 k allocations: 786.656 KB)\n",
      "25 nodes\n",
      "  6.073737 seconds (12.65 k allocations: 1.177 MB)\n",
      "30 nodes\n",
      "  "
     ]
    }
   ],
   "source": [
    "for (i,n) in enumerate(10:step:max_nodes)\n",
    "    println(\"$n nodes\")\n",
    "    problem = gen_op(n_nodes=n, rng=MersenneTwister(n))\n",
    "    @time solve_op(problem)\n",
    "end"
   ]
  },
  {
   "cell_type": "code",
   "execution_count": 6,
   "metadata": {
    "collapsed": false
   },
   "outputs": [
    {
     "name": "stdout",
     "output_type": "stream",
     "text": [
      "10 nodes\n",
      "  0.001714 seconds (152 allocations: 57.281 KB)\n",
      "15 nodes\n",
      "  0.002250 seconds (152 allocations: 103.594 KB)\n",
      "20 nodes\n",
      "  0.003516 seconds (152 allocations: 168.453 KB)\n",
      "25 nodes\n",
      "  0.005118 seconds (155 allocations: 252.578 KB)\n",
      "30 nodes\n",
      "  0.007334 seconds (166 allocations: 354.703 KB)\n"
     ]
    }
   ],
   "source": [
    "m = nothing\n",
    "problem = nothing\n",
    "for (i,n) in enumerate(10:step:max_nodes)\n",
    "    println(\"$n nodes\")\n",
    "    problem = gen_op(n_nodes=n, rng=MersenneTwister(n))\n",
    "    m = create_mip_without_subtour(problem)\n",
    "    @time solve(m)\n",
    "end"
   ]
  },
  {
   "cell_type": "code",
   "execution_count": 9,
   "metadata": {
    "collapsed": false
   },
   "outputs": [
    {
     "data": {
      "text/plain": [
       "4-element Array{Int64,1}:\n",
       "  1\n",
       " 11\n",
       " 18\n",
       " 30"
      ]
     },
     "execution_count": 9,
     "metadata": {},
     "output_type": "execute_result"
    }
   ],
   "source": [
    "xopt = round(Int, getValue(m.varDict[:x]))\n",
    "path = build_path(problem, xopt)"
   ]
  },
  {
   "cell_type": "code",
   "execution_count": 10,
   "metadata": {
    "collapsed": false
   },
   "outputs": [
    {
     "data": {
      "text/plain": [
       "0.594730123737896"
      ]
     },
     "execution_count": 10,
     "metadata": {},
     "output_type": "execute_result"
    }
   ],
   "source": [
    "distance(problem, path)"
   ]
  },
  {
   "cell_type": "code",
   "execution_count": 18,
   "metadata": {
    "collapsed": false
   },
   "outputs": [
    {
     "data": {
      "text/plain": [
       "30-element Array{Float64,1}:\n",
       " 1.0\n",
       " 1.0\n",
       " 1.0\n",
       " 1.0\n",
       " 1.0\n",
       " 1.0\n",
       " 1.0\n",
       " 1.0\n",
       " 1.0\n",
       " 1.0\n",
       " 1.0\n",
       " 1.0\n",
       " 1.0\n",
       " ⋮  \n",
       " 1.0\n",
       " 1.0\n",
       " 1.0\n",
       " 1.0\n",
       " 1.0\n",
       " 1.0\n",
       " 1.0\n",
       " 1.0\n",
       " 1.0\n",
       " 1.0\n",
       " 1.0\n",
       " 1.0"
      ]
     },
     "execution_count": 18,
     "metadata": {},
     "output_type": "execute_result"
    }
   ],
   "source": [
    "getValue(m.varDict[:y])"
   ]
  },
  {
   "cell_type": "code",
   "execution_count": null,
   "metadata": {
    "collapsed": false
   },
   "outputs": [],
   "source": []
  },
  {
   "cell_type": "code",
   "execution_count": null,
   "metadata": {
    "collapsed": true
   },
   "outputs": [],
   "source": []
  }
 ],
 "metadata": {
  "kernelspec": {
   "display_name": "Julia 0.4.0",
   "language": "julia",
   "name": "julia-0.4"
  },
  "language_info": {
   "file_extension": ".jl",
   "mimetype": "application/julia",
   "name": "julia",
   "version": "0.4.2"
  }
 },
 "nbformat": 4,
 "nbformat_minor": 0
}
