{
 "cells": [
  {
   "cell_type": "code",
   "execution_count": 14,
   "metadata": {
    "collapsed": false
   },
   "outputs": [
    {
     "data": {
      "text/plain": [
       "30"
      ]
     },
     "execution_count": 14,
     "metadata": {},
     "output_type": "execute_result"
    }
   ],
   "source": [
    "using OPCSPs\n",
    "step=5\n",
    "max_nodes=30"
   ]
  },
  {
   "cell_type": "code",
   "execution_count": 19,
   "metadata": {
    "collapsed": false
   },
   "outputs": [
    {
     "data": {
      "text/plain": [
       "cheat (generic function with 1 method)"
      ]
     },
     "execution_count": 19,
     "metadata": {},
     "output_type": "execute_result"
    }
   ],
   "source": [
    "include(\"../src/solutions.jl\")"
   ]
  },
  {
   "cell_type": "code",
   "execution_count": 20,
   "metadata": {
    "collapsed": false
   },
   "outputs": [
    {
     "data": {
      "text/plain": [
       "5-element Array{OPSolution,1}:\n",
       " OPSolution(nothing,nothing)\n",
       " OPSolution(nothing,nothing)\n",
       " OPSolution(nothing,nothing)\n",
       " OPSolution(nothing,nothing)\n",
       " OPSolution(nothing,nothing)"
      ]
     },
     "execution_count": 20,
     "metadata": {},
     "output_type": "execute_result"
    }
   ],
   "source": [
    "solns = [OPSolution() for i in 10:step:max_nodes]"
   ]
  },
  {
   "cell_type": "code",
   "execution_count": 23,
   "metadata": {
    "collapsed": false,
    "scrolled": true
   },
   "outputs": [
    {
     "name": "stdout",
     "output_type": "stream",
     "text": [
      "10 nodes\n",
      "  0.003912 seconds (2.30 k allocations: 215.406 KB)\n",
      "15 nodes\n",
      "  0.641698 seconds (5.87 k allocations: 473.406 KB)\n",
      "20 nodes\n",
      "  1.859548 seconds (8.57 k allocations: 790.344 KB)\n",
      "25 nodes\n",
      " 22.365710 seconds (12.76 k allocations: 1.182 MB)\n",
      "30 nodes\n",
      "  5.931342 seconds (23.57 k allocations: 1.780 MB)\n"
     ]
    }
   ],
   "source": [
    "for (i,n) in enumerate(10:step:max_nodes)\n",
    "    println(\"$n nodes\")\n",
    "    problem = gen_op(n_nodes=n, rng=MersenneTwister(n))\n",
    "    @time solns[i] = solve_op(problem, initial = solns[i])\n",
    "end"
   ]
  },
  {
   "cell_type": "code",
   "execution_count": 13,
   "metadata": {
    "collapsed": false
   },
   "outputs": [
    {
     "name": "stdout",
     "output_type": "stream",
     "text": [
      "solns[1].u[7] = 5.0"
     ]
    },
    {
     "data": {
      "text/plain": [
       "Base.KeyIterator for a Dict{Tuple{Any},Float64} with 9 entries. Keys:\n",
       "  (9,)\n",
       "  (4,)\n",
       "  (8,)\n",
       "  (3,)\n",
       "  (6,)\n",
       "  (2,)\n",
       "  (5,)\n",
       "  (10,)\n",
       "  (7,)"
      ]
     },
     "execution_count": 13,
     "metadata": {},
     "output_type": "execute_result"
    },
    {
     "name": "stdout",
     "output_type": "stream",
     "text": [
      "\n",
      "keys(solns[1].u) = Tuple{Any}[(9,),(4,),(8,),(3,),(6,),(2,),(5,),(10,),(7,)]\n"
     ]
    }
   ],
   "source": [
    "@show solns[1].u[7]\n",
    "@show keys(solns[1].u)"
   ]
  },
  {
   "cell_type": "code",
   "execution_count": null,
   "metadata": {
    "collapsed": true
   },
   "outputs": [],
   "source": []
  },
  {
   "cell_type": "code",
   "execution_count": 7,
   "metadata": {
    "collapsed": false
   },
   "outputs": [
    {
     "name": "stdout",
     "output_type": "stream",
     "text": [
      ".894262 seconds (23.42 k allocations: 1.779 MB)\n",
      "10 nodes\n",
      "  0.007594 seconds (2.25 k allocations: 214.844 KB)\n",
      "15 nodes\n",
      "  1.109713 seconds (5.80 k allocations: 472.484 KB)\n",
      "20 nodes\n",
      "  1.101297 seconds (8.47 k allocations: 789.078 KB)\n",
      "25 nodes\n",
      " 60.534300 seconds (12.64 k allocations: 1.180 MB)\n",
      "30 nodes\n",
      " 13.321914 seconds (23.42 k allocations: 1.779 MB)\n"
     ]
    }
   ],
   "source": [
    "# before u relaxation\n",
    "for i in 10:step:max_nodes\n",
    "    println(\"$i nodes\")\n",
    "    problem = gen_op(n_nodes=i, rng=MersenneTwister(i))\n",
    "    @time solve_op(problem)\n",
    "end"
   ]
  },
  {
   "cell_type": "code",
   "execution_count": null,
   "metadata": {
    "collapsed": true
   },
   "outputs": [],
   "source": []
  },
  {
   "cell_type": "code",
   "execution_count": null,
   "metadata": {
    "collapsed": true
   },
   "outputs": [],
   "source": []
  }
 ],
 "metadata": {
  "kernelspec": {
   "display_name": "Julia 0.4.0",
   "language": "julia",
   "name": "julia-0.4"
  },
  "language_info": {
   "file_extension": ".jl",
   "mimetype": "application/julia",
   "name": "julia",
   "version": "0.4.2"
  }
 },
 "nbformat": 4,
 "nbformat_minor": 0
}
