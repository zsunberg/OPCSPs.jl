{
 "cells": [
  {
   "cell_type": "code",
   "execution_count": 1,
   "metadata": {
    "collapsed": true
   },
   "outputs": [],
   "source": [
    "using OPCSPs\n",
    "using POMCP\n",
    "using POMDPToolbox\n",
    "using POMDPs"
   ]
  },
  {
   "cell_type": "code",
   "execution_count": 2,
   "metadata": {
    "collapsed": false
   },
   "outputs": [],
   "source": [
    "N = 100\n",
    "problems = Array(Any, N)\n",
    "naive_rewards = Array(Float64, N)\n",
    "feedback_rewards = Array(Float64, N)\n",
    "cheat_rewards = Array(Float64, N)\n",
    "mcts_rewards = Array(Float64, N);"
   ]
  },
  {
   "cell_type": "code",
   "execution_count": 3,
   "metadata": {
    "collapsed": false
   },
   "outputs": [],
   "source": [
    "r = [0, 10.1, 5, 5, 5, 0]\n",
    "cov = Float64[ 0 0 0 0 0 0; 0 0 0 0 0 0; 0 0 2 2 -2 0; 0 0 2 4 0 0; 0 0 -2 0 4 0; 0 0 0 0 0 0]\n",
    "positions = Vector{Float64}[[0, 0], [0,-1.71], [0,1], [1,1], [-1,1], [0,0]];\n",
    "rng = MersenneTwister(1);"
   ]
  },
  {
   "cell_type": "code",
   "execution_count": 4,
   "metadata": {
    "collapsed": false
   },
   "outputs": [],
   "source": [
    "for j in 1:N\n",
    "    p = problems[j] = gen_opcsp(r, positions, cov, 3.43, 1, 6, rng=rng)\n",
    "    cheat_rewards[j] = reward(p, cheat(p))\n",
    "    naive_rewards[j] = reward(p, solve_op(p))\n",
    "    feedback_rewards[j] = reward(p, solve_opcsp_feedback(p))\n",
    "\n",
    "    solver = POMCPSolver(rollout_policy=SolveMeanFeedback(p),\n",
    "                         c=sum(p.r),\n",
    "                         tree_queries=50,\n",
    "                         rng=MersenneTwister(j),\n",
    "                         updater=OPCSPUpdater(p)\n",
    "                        )\n",
    "    policy = solve(solver, p)\n",
    "    sim = HistoryRecorder(rng=MersenneTwister(1))\n",
    "    u = updater(policy)\n",
    "    ib = convert_belief(u, initial_belief(p))\n",
    "    simulate(sim, p, policy, u, ib)\n",
    "    path = Int[s.i for s in sim.state_hist]\n",
    "    mcts_rewards[j] = reward(p, path)\n",
    "end"
   ]
  },
  {
   "cell_type": "code",
   "execution_count": 6,
   "metadata": {
    "collapsed": false
   },
   "outputs": [
    {
     "name": "stdout",
     "output_type": "stream",
     "text": [
      "mean(cheat_rewards) = 11.438143114708593\n",
      "mean(naive_rewards) = 10.099999999999998\n",
      "mean(feedback_rewards) = 10.099999999999998\n",
      "mean(mcts_rewards) = 11.438143114708593\n"
     ]
    }
   ],
   "source": [
    "@show mean(cheat_rewards)\n",
    "@show mean(naive_rewards)\n",
    "@show mean(feedback_rewards)\n",
    "@show mean(mcts_rewards);"
   ]
  },
  {
   "cell_type": "code",
   "execution_count": null,
   "metadata": {
    "collapsed": true
   },
   "outputs": [],
   "source": []
  }
 ],
 "metadata": {
  "kernelspec": {
   "display_name": "Julia 0.4.0",
   "language": "julia",
   "name": "julia-0.4"
  },
  "language_info": {
   "file_extension": ".jl",
   "mimetype": "application/julia",
   "name": "julia",
   "version": "0.4.2"
  }
 },
 "nbformat": 4,
 "nbformat_minor": 0
}
