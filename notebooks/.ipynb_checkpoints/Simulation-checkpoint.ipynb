{
 "cells": [
  {
   "cell_type": "code",
   "execution_count": 1,
   "metadata": {
    "collapsed": false
   },
   "outputs": [],
   "source": [
    "using POMDPs\n",
    "using OPCSPs\n",
    "using POMDPToolbox"
   ]
  },
  {
   "cell_type": "code",
   "execution_count": 2,
   "metadata": {
    "collapsed": false
   },
   "outputs": [],
   "source": [
    "problem = gen_two_cluster_problem();"
   ]
  },
  {
   "cell_type": "code",
   "execution_count": 3,
   "metadata": {
    "collapsed": false
   },
   "outputs": [
    {
     "ename": "LoadError",
     "evalue": "LoadError: UndefVarError: initial_state not defined\nwhile loading In[3], in expression starting on line 3",
     "output_type": "error",
     "traceback": [
      "LoadError: UndefVarError: initial_state not defined\nwhile loading In[3], in expression starting on line 3",
      ""
     ]
    }
   ],
   "source": [
    "sim = RolloutSimulator()\n",
    "policy = RandomPolicy(problem)\n",
    "simulate(sim, problem, policy, updater(problem), initial_state(problem))"
   ]
  },
  {
   "cell_type": "code",
   "execution_count": null,
   "metadata": {
    "collapsed": true
   },
   "outputs": [],
   "source": []
  }
 ],
 "metadata": {
  "kernelspec": {
   "display_name": "Julia 0.4.0",
   "language": "julia",
   "name": "julia-0.4"
  },
  "language_info": {
   "file_extension": ".jl",
   "mimetype": "application/julia",
   "name": "julia",
   "version": "0.4.2"
  }
 },
 "nbformat": 4,
 "nbformat_minor": 0
}
