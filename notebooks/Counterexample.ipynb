{
 "cells": [
  {
   "cell_type": "code",
   "execution_count": 1,
   "metadata": {
    "collapsed": false
   },
   "outputs": [
    {
     "data": {
      "text/plain": [
       "4-element Array{Int64,1}:\n",
       " 2\n",
       " 3\n",
       " 4\n",
       " 5"
      ]
     },
     "execution_count": 1,
     "metadata": {},
     "output_type": "execute_result"
    }
   ],
   "source": [
    "addprocs(4)"
   ]
  },
  {
   "cell_type": "code",
   "execution_count": 2,
   "metadata": {
    "collapsed": true
   },
   "outputs": [],
   "source": [
    "using OPCSPs\n",
    "using MCTS\n",
    "using POMDPToolbox\n",
    "using POMDPs"
   ]
  },
  {
   "cell_type": "code",
   "execution_count": 3,
   "metadata": {
    "collapsed": false
   },
   "outputs": [],
   "source": [
    "N = 1000\n",
    "naive_rewards = SharedArray(Float64, N)\n",
    "feedback_rewards = SharedArray(Float64, N)\n",
    "cheat_rewards = SharedArray(Float64, N)\n",
    "mcts_rewards = SharedArray(Float64, N);"
   ]
  },
  {
   "cell_type": "code",
   "execution_count": 4,
   "metadata": {
    "collapsed": false
   },
   "outputs": [],
   "source": [
    "r = [0, 10.1, 5, 5, 5, 0]\n",
    "cov = Float64[ 0 0 0 0 0 0; 0 0 0 0 0 0; 0 0 2 2 -2 0; 0 0 2 4 0 0; 0 0 -2 0 4 0; 0 0 0 0 0 0]\n",
    "positions = Vector{Float64}[[0, 0], [0,-1.71], [0,1], [1,1], [-1,1], [0,0]];\n",
    "rng = MersenneTwister(1);"
   ]
  },
  {
   "cell_type": "code",
   "execution_count": 5,
   "metadata": {
    "collapsed": false
   },
   "outputs": [
    {
     "data": {
      "text/plain": [
       "4-element Array{Any,1}:\n",
       " RemoteRef{Channel{Any}}(2,1,45)\n",
       " RemoteRef{Channel{Any}}(3,1,46)\n",
       " RemoteRef{Channel{Any}}(4,1,47)\n",
       " RemoteRef{Channel{Any}}(5,1,48)"
      ]
     },
     "execution_count": 5,
     "metadata": {},
     "output_type": "execute_result"
    }
   ],
   "source": [
    "@sync @parallel for j in 1:N\n",
    "    p = OPCSP(r, positions, cov, 3.43, 1, 6)\n",
    "    is = rand!(rng, create_state(p), initial_belief(p))\n",
    "    cheat_rewards[j] = reward(p, is.d, cheat(p,is.d))\n",
    "    naive_rewards[j] = reward(p, is.d, solve_op(GurobiExactSolver(),p))\n",
    "    feedback_rewards[j] = reward(p, is.d, solve_opcsp_feedback(p, is.d))\n",
    "\n",
    "    mdp = OPCSPBeliefMDP(p)\n",
    "    solver = DPWSolver(rollout_solver=SolveMeanFeedback(mdp, HeuristicSolver()),\n",
    "        exploration_constant=sum(p.r),\n",
    "        n_iterations=1000,\n",
    "        rng=MersenneTwister(j),\n",
    "        k_action = 5.0,\n",
    "        alpha_action = 1.0,\n",
    "        k_state = 10.0,\n",
    "        alpha_state = 1.0,\n",
    "    )\n",
    "    policy = MCTSAdapter(solve(solver, mdp))\n",
    "    sim = HistoryRecorder(rng=MersenneTwister(1), initial_state=is)\n",
    "    u = OPCSPUpdater(p)\n",
    "    ib = convert_belief(u, initial_belief(p))\n",
    "    simulate(sim, p, policy, u, ib)\n",
    "    path = Int[s.i for s in sim.state_hist]\n",
    "    mcts_rewards[j] = reward(p, is.d, path)\n",
    "end"
   ]
  },
  {
   "cell_type": "code",
   "execution_count": 6,
   "metadata": {
    "collapsed": false
   },
   "outputs": [
    {
     "name": "stdout",
     "output_type": "stream",
     "text": [
      "mean(cheat_rewards) = 11.55881782240237\n",
      "mean(naive_rewards) = 10.10000000000019\n",
      "mean(feedback_rewards) = 10.10000000000019\n",
      "mean(mcts_rewards) = 11.098253890494304\n"
     ]
    }
   ],
   "source": [
    "@show mean(cheat_rewards)\n",
    "@show mean(naive_rewards)\n",
    "@show mean(feedback_rewards)\n",
    "@show mean(mcts_rewards);"
   ]
  },
  {
   "cell_type": "code",
   "execution_count": null,
   "metadata": {
    "collapsed": true
   },
   "outputs": [],
   "source": []
  }
 ],
 "metadata": {
  "kernelspec": {
   "display_name": "Julia 0.4.0",
   "language": "julia",
   "name": "julia-0.4"
  },
  "language_info": {
   "file_extension": ".jl",
   "mimetype": "application/julia",
   "name": "julia",
   "version": "0.4.2"
  }
 },
 "nbformat": 4,
 "nbformat_minor": 0
}
